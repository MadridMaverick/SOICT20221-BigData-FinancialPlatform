{
  "cells": [
    {
      "cell_type": "code",
      "execution_count": 1,
      "metadata": {
        "id": "-Cy_mNM-5IXs"
      },
      "outputs": [],
      "source": [
        "import pandas as pd\n",
        "from pyspark.context import SparkContext\n",
        "from pyspark.sql.session import SparkSession\n",
        "sc = SparkContext('local')\n",
        "spark = SparkSession(sc)"
      ]
    },
    {
      "cell_type": "code",
      "execution_count": null,
      "metadata": {
        "id": "-LqLF3Hh6ZyF"
      },
      "outputs": [],
      "source": [
        "from pyspark.sql.types import StructField, StructType, StringType, DoubleType, IntegerType\n",
        "mySchema = StructType([\n",
        "StructField(\"Ticker\", StringType(), True),\n",
        "StructField(\"DTYYYYMMDD\", StringType(), True),\n",
        "StructField(\"OpenFixed(K)\", DoubleType(), True),\n",
        "StructField(\"HighFixed(K)\", DoubleType(), True),\n",
        "StructField(\"LowFixed(K)\", DoubleType(), True),\n",
        "StructField(\"CloseFixed(K)\", DoubleType(), True),\n",
        "StructField(\"Volume\", IntegerType(), True),\n",
        "])"
      ]
    },
    {
      "cell_type": "code",
      "execution_count": null,
      "metadata": {
        "id": "OOcmZoNl5MGP"
      },
      "outputs": [],
      "source": [
        "df = spark.read.csv(\"/content/drive/MyDrive/excel_acb.csv\", header = True,schema = mySchema  )"
      ]
    },
    {
      "cell_type": "code",
      "execution_count": null,
      "metadata": {
        "id": "rCCBCSPxL6o_"
      },
      "outputs": [],
      "source": [
        "df1 = spark.read.csv(\"/content/drive/MyDrive/BiGData/SOICT20221-BigData-FinancialPlatform-main/SOICT20221-BigData-FinancialPlatform-main/data/data_olhc/excel_bab.csv\", header = True,schema = mySchema  )"
      ]
    },
    {
      "cell_type": "code",
      "execution_count": null,
      "metadata": {
        "id": "yvMZvwP_MrLd"
      },
      "outputs": [],
      "source": [
        "df2 = spark.read.csv(\"/content/drive/MyDrive/BiGData/SOICT20221-BigData-FinancialPlatform-main/SOICT20221-BigData-FinancialPlatform-main/data/data_olhc/excel_bid.csv\", header = True,schema = mySchema  )"
      ]
    },
    {
      "cell_type": "code",
      "execution_count": null,
      "metadata": {
        "colab": {
          "base_uri": "https://localhost:8080/"
        },
        "id": "oiCk3hvMMwgt",
        "outputId": "c47cfc42-6928-40ed-ef40-20ce5e2b1958"
      },
      "outputs": [
        {
          "name": "stdout",
          "output_type": "stream",
          "text": [
            "+-------+------+-------------------+------------------+------------------+-----------------+------------------+------------------+\n",
            "|summary|Ticker|         DTYYYYMMDD|      OpenFixed(K)|      HighFixed(K)|      LowFixed(K)|     CloseFixed(K)|            Volume|\n",
            "+-------+------+-------------------+------------------+------------------+-----------------+------------------+------------------+\n",
            "|  count|  2195|               2195|              2195|              2195|             2195|              2195|              2195|\n",
            "|   mean|  null|2.018042415854214E7|23.284959179954477|23.651693758542148|22.95334706150342| 23.29612305239183|1926371.3348519362|\n",
            "| stddev|  null|  25358.72136407868|10.019237221095722|10.189634458760331|9.857505040833992|10.011983075274246|1501401.5567782235|\n",
            "|    min|   BID|           20140124|            8.0064|            8.0699|           7.9428|            8.0064|             51430|\n",
            "|    max|   BID|           20221114|              49.5|             49.95|             48.1|              49.0|          15701040|\n",
            "+-------+------+-------------------+------------------+------------------+-----------------+------------------+------------------+\n",
            "\n"
          ]
        }
      ],
      "source": [
        "df2.describe().show()"
      ]
    },
    {
      "cell_type": "code",
      "execution_count": null,
      "metadata": {
        "colab": {
          "base_uri": "https://localhost:8080/"
        },
        "id": "OnxlDyboMCP3",
        "outputId": "ada1a1cc-48ac-4b4e-be92-4a3ee43a042e"
      },
      "outputs": [
        {
          "name": "stdout",
          "output_type": "stream",
          "text": [
            "+-------+------+-------------------+------------------+------------------+------------------+------------------+------------------+\n",
            "|summary|Ticker|         DTYYYYMMDD|      OpenFixed(K)|      HighFixed(K)|       LowFixed(K)|     CloseFixed(K)|            Volume|\n",
            "+-------+------+-------------------+------------------+------------------+------------------+------------------+------------------+\n",
            "|  count|  1219|               1219|              1219|              1219|              1219|              1219|              1219|\n",
            "|   mean|  null|2.020004455947498E7|19.739427317473275|19.839055619360096|19.602865709598007| 19.72524306808853|25766.484003281377|\n",
            "| stddev|  null|  13942.47281760372|2.6608470989376247|2.6886150174290475| 2.594339469621194|2.6239899509275753| 58373.97262556892|\n",
            "|    min|   BAB|           20171228|              13.2|              13.4|              13.0|              13.0|                 0|\n",
            "|    max|   BAB|           20221114|           31.7933|           31.8804|           29.6157|           29.6157|            889430|\n",
            "+-------+------+-------------------+------------------+------------------+------------------+------------------+------------------+\n",
            "\n"
          ]
        }
      ],
      "source": [
        "df1.describe().show()"
      ]
    },
    {
      "cell_type": "code",
      "execution_count": null,
      "metadata": {
        "id": "ctvL7gZ1NUTU"
      },
      "outputs": [],
      "source": [
        "def Query(start, end, kind, ticker):\n",
        "  url = \"data/data_olhc/excel_\"+ ticker +\".csv\"\n",
        "  df = spark.read.csv(url, header = True, schema = mySchema)\n",
        "  ans = df.select(\"DTYYYYMMDD\", kind).where((df[\"DTYYYYMMDD\"]>start) & (df[\"DTYYYYMMDD\"]<end))\n",
        "  return ans"
      ]
    },
    {
      "cell_type": "code",
      "execution_count": null,
      "metadata": {
        "id": "XqwaU-zfVV55"
      },
      "outputs": [],
      "source": [
        "hehe = Query(20150000, 20230000,\"CloseFixed(K)\",\"bab\" )"
      ]
    },
    {
      "cell_type": "code",
      "execution_count": null,
      "metadata": {
        "colab": {
          "base_uri": "https://localhost:8080/"
        },
        "id": "pmUGw9T0aDtr",
        "outputId": "2d3f24c5-e570-41b1-e565-1d8282c9370e"
      },
      "outputs": [
        {
          "name": "stdout",
          "output_type": "stream",
          "text": [
            "+----------+-------------+\n",
            "|DTYYYYMMDD|CloseFixed(K)|\n",
            "+----------+-------------+\n",
            "|  20171228|         23.0|\n",
            "|  20171229|         25.0|\n",
            "|  20180102|         26.0|\n",
            "|  20180103|         26.0|\n",
            "|  20180104|         25.5|\n",
            "|  20180105|         25.5|\n",
            "|  20180108|         25.2|\n",
            "|  20180109|         24.0|\n",
            "|  20180110|         24.5|\n",
            "|  20180111|         24.5|\n",
            "|  20180112|         25.0|\n",
            "|  20180115|         26.6|\n",
            "|  20180116|         24.5|\n",
            "|  20180117|         24.5|\n",
            "|  20180118|         24.5|\n",
            "|  20180119|         24.5|\n",
            "|  20180122|         24.5|\n",
            "|  20180123|         25.0|\n",
            "|  20180124|         26.4|\n",
            "|  20180125|         26.9|\n",
            "+----------+-------------+\n",
            "only showing top 20 rows\n",
            "\n"
          ]
        }
      ],
      "source": [
        "hehe.show()"
      ]
    },
    {
      "cell_type": "code",
      "execution_count": null,
      "metadata": {
        "id": "6-PVZ69idBO5"
      },
      "outputs": [],
      "source": [
        "import matplotlib.pyplot as plt\n",
        "import numpy as np\n"
      ]
    },
    {
      "cell_type": "code",
      "execution_count": null,
      "metadata": {
        "id": "njltoFinZ2qR"
      },
      "outputs": [],
      "source": [
        "x = hehe.select(\"DTYYYYMMDD\").collect()"
      ]
    },
    {
      "cell_type": "code",
      "execution_count": null,
      "metadata": {
        "id": "Hse9bjwSZ4ZB"
      },
      "outputs": [],
      "source": [
        "y = hehe.select(\"CloseFixed(K)\").collect()"
      ]
    },
    {
      "cell_type": "code",
      "execution_count": null,
      "metadata": {
        "id": "codCy1CQkFHa"
      },
      "outputs": [],
      "source": [
        "xarray = np.array([row[\"DTYYYYMMDD\"] for row in x])"
      ]
    },
    {
      "cell_type": "code",
      "execution_count": null,
      "metadata": {
        "id": "2vNYeIPak6ax"
      },
      "outputs": [],
      "source": [
        "yarray = np.array([row[\"CloseFixed(K)\"] for row in y])"
      ]
    },
    {
      "cell_type": "code",
      "execution_count": null,
      "metadata": {
        "colab": {
          "base_uri": "https://localhost:8080/",
          "height": 265
        },
        "id": "UkwsxAonfVLv",
        "outputId": "88f5252b-0067-4734-ea4f-17ed82e19693"
      },
      "outputs": [
        {
          "data": {
            "image/png": "[encoded data removed]",
            "text/plain": [
              "<Figure size 432x288 with 1 Axes>"
            ]
          },
          "metadata": {
            "needs_background": "light"
          },
          "output_type": "display_data"
        }
      ],
      "source": [
        "plt.plot(xarray,yarray)\n",
        "plt.show()"
      ]
    },
    {
      "cell_type": "code",
      "execution_count": null,
      "metadata": {
        "colab": {
          "base_uri": "https://localhost:8080/"
        },
        "id": "W62PzetBZRgL",
        "outputId": "0bf0c95b-1bdd-4d7f-d3f2-b5830fc9e6b5"
      },
      "outputs": [
        {
          "name": "stdout",
          "output_type": "stream",
          "text": [
            "+-------+------------------+\n",
            "|summary|     CloseFixed(K)|\n",
            "+-------+------------------+\n",
            "|  count|              1219|\n",
            "|   mean| 19.72524306808853|\n",
            "| stddev|2.6239899509275753|\n",
            "|    min|              13.0|\n",
            "|    max|           29.6157|\n",
            "+-------+------------------+\n",
            "\n"
          ]
        }
      ],
      "source": [
        "df1.select(\"CloseFixed(K)\").describe().show()"
      ]
    },
    {
      "cell_type": "code",
      "execution_count": null,
      "metadata": {
        "colab": {
          "base_uri": "https://localhost:8080/"
        },
        "id": "X0s1igf4MidT",
        "outputId": "5177988b-e023-4a92-c2ef-cd6158fb6eaa"
      },
      "outputs": [
        {
          "name": "stdout",
          "output_type": "stream",
          "text": [
            "+-------+------+-------------------+------------------+------------------+------------------+------------------+------------------+\n",
            "|summary|Ticker|         DTYYYYMMDD|      OpenFixed(K)|      HighFixed(K)|       LowFixed(K)|     CloseFixed(K)|            Volume|\n",
            "+-------+------+-------------------+------------------+------------------+------------------+------------------+------------------+\n",
            "|  count|  1219|               1219|              1219|              1219|              1219|              1219|              1219|\n",
            "|   mean|  null|2.020004455947498E7|19.739427317473275|19.839055619360096|19.602865709598007| 19.72524306808853|25766.484003281377|\n",
            "| stddev|  null|  13942.47281760372|2.6608470989376247|2.6886150174290475| 2.594339469621194|2.6239899509275753| 58373.97262556892|\n",
            "|    min|   BAB|           20171228|              13.2|              13.4|              13.0|              13.0|                 0|\n",
            "|    max|   BAB|           20221114|           31.7933|           31.8804|           29.6157|           29.6157|            889430|\n",
            "+-------+------+-------------------+------------------+------------------+------------------+------------------+------------------+\n",
            "\n"
          ]
        }
      ],
      "source": [
        "df1.describe().show()"
      ]
    },
    {
      "cell_type": "code",
      "execution_count": null,
      "metadata": {
        "colab": {
          "base_uri": "https://localhost:8080/"
        },
        "id": "vnhGLcWdMcTT",
        "outputId": "9b673b49-7971-4f69-98e5-224d28e28e39"
      },
      "outputs": [
        {
          "name": "stdout",
          "output_type": "stream",
          "text": [
            "+-------+------+--------------------+------------------+------------------+------------------+------------------+------------------+\n",
            "|summary|Ticker|          DTYYYYMMDD|      OpenFixed(K)|      HighFixed(K)|       LowFixed(K)|     CloseFixed(K)|            Volume|\n",
            "+-------+------+--------------------+------------------+------------------+------------------+------------------+------------------+\n",
            "|  count|  3987|                3987|              3987|              3987|              3987|              3987|              3987|\n",
            "|   mean|  null|2.0144511650112867E7|10.507720065211917|10.664507298720759|10.328102558314486|10.491606119889607|1960654.3905191873|\n",
            "| stddev|  null|   46150.15001623645|14.051447622909416|14.362431453445202|13.637635543521142|13.974954776209403|3021535.8510378767|\n",
            "|    min|   ACB|            20061121|              2.76|            2.9173|              2.76|            2.8601|                 0|\n",
            "|    max|   ACB|            20221114|             157.0|             161.4|             155.0|             157.8|          35156000|\n",
            "+-------+------+--------------------+------------------+------------------+------------------+------------------+------------------+\n",
            "\n"
          ]
        }
      ],
      "source": [
        "df.describe().show()"
      ]
    },
    {
      "cell_type": "code",
      "execution_count": null,
      "metadata": {
        "colab": {
          "base_uri": "https://localhost:8080/"
        },
        "id": "pUgIAvVv6RvM",
        "outputId": "4e71cce8-67c3-40a8-bde5-56ff9863635b"
      },
      "outputs": [
        {
          "name": "stdout",
          "output_type": "stream",
          "text": [
            "+------+----------+------------+------------+-----------+-------------+------+\n",
            "|Ticker|DTYYYYMMDD|OpenFixed(K)|HighFixed(K)|LowFixed(K)|CloseFixed(K)|Volume|\n",
            "+------+----------+------------+------------+-----------+-------------+------+\n",
            "|   ACB|      null|       120.0|       150.0|      119.0|        130.2| 56500|\n",
            "|   ACB|      null|       143.2|       143.2|      130.0|        134.7| 62300|\n",
            "|   ACB|      null|       145.0|       145.0|      130.0|        138.4| 69900|\n",
            "|   ACB|      null|       140.0|       152.0|      140.0|        146.8| 63600|\n",
            "|   ACB|      null|       146.8|       161.4|      135.0|        146.8| 42400|\n",
            "|   ACB|      null|       150.0|       150.0|      140.0|        143.2| 19800|\n",
            "|   ACB|      null|       140.0|       142.0|      133.0|        137.9| 30900|\n",
            "|   ACB|      null|       132.0|       135.0|      129.0|        131.5| 66200|\n",
            "|   ACB|      null|       133.0|       133.0|      130.0|        131.0| 59300|\n",
            "|   ACB|      null|       131.0|       131.0|      125.0|        126.9| 89500|\n",
            "|   ACB|      null|       126.0|       126.0|      120.0|        122.2|111400|\n",
            "|   ACB|      null|       120.0|       126.0|      120.0|        122.3| 81800|\n",
            "|   ACB|      null|       125.0|       134.5|      125.0|        134.5| 24200|\n",
            "|   ACB|      null|       145.0|       145.0|      136.0|        141.0| 48500|\n",
            "|   ACB|      null|       154.0|       154.0|      141.0|        144.2| 67600|\n",
            "|   ACB|      null|       155.0|       158.0|      135.0|        138.9| 29000|\n",
            "|   ACB|      null|       140.0|       143.0|      136.0|        139.6| 70500|\n",
            "|   ACB|      null|       140.0|       142.9|      139.0|        140.7| 45600|\n",
            "|   ACB|      null|       142.0|       145.0|      140.5|        143.0| 56800|\n",
            "|   ACB|      null|       144.0|       146.0|      142.9|        144.6| 70400|\n",
            "+------+----------+------------+------------+-----------+-------------+------+\n",
            "only showing top 20 rows\n",
            "\n"
          ]
        }
      ],
      "source": [
        "df.show()"
      ]
    },
    {
      "cell_type": "code",
      "execution_count": null,
      "metadata": {
        "colab": {
          "base_uri": "https://localhost:8080/"
        },
        "id": "7YsEE2VrsIUi",
        "outputId": "0fdc15b2-e92d-43af-d3a3-ef034a8be8a9"
      },
      "outputs": [
        {
          "name": "stdout",
          "output_type": "stream",
          "text": [
            "+-------+------+--------------------+------------------+------------------+------------------+------------------+------------------+\n",
            "|summary|Ticker|          DTYYYYMMDD|      OpenFixed(K)|      HighFixed(K)|       LowFixed(K)|     CloseFixed(K)|            Volume|\n",
            "+-------+------+--------------------+------------------+------------------+------------------+------------------+------------------+\n",
            "|  count|  3987|                3987|              3987|              3987|              3987|              3987|              3987|\n",
            "|   mean|  null|2.0144511650112867E7|10.507720065211917|10.664507298720759|10.328102558314486|10.491606119889607|1960654.3905191873|\n",
            "| stddev|  null|   46150.15001623645|14.051447622909416|14.362431453445202|13.637635543521142|13.974954776209403|3021535.8510378767|\n",
            "|    min|   ACB|            20061121|              2.76|            2.9173|              2.76|            2.8601|                 0|\n",
            "|    max|   ACB|            20221114|             157.0|             161.4|             155.0|             157.8|          35156000|\n",
            "+-------+------+--------------------+------------------+------------------+------------------+------------------+------------------+\n",
            "\n"
          ]
        }
      ],
      "source": [
        "df.describe().show()"
      ]
    },
    {
      "cell_type": "code",
      "execution_count": null,
      "metadata": {
        "colab": {
          "base_uri": "https://localhost:8080/",
          "height": 35
        },
        "id": "SbxPhgXDrcnj",
        "outputId": "e56ac4f4-dfbd-4ad4-8ded-86c7f9e6e1a7"
      },
      "outputs": [
        {
          "data": {
            "application/vnd.google.colaboratory.intrinsic+json": {
              "type": "string"
            },
            "text/plain": [
              "'9.9988'"
            ]
          },
          "execution_count": 34,
          "metadata": {},
          "output_type": "execute_result"
        }
      ],
      "source": [
        "row1 = df.agg({\"HighFixed(K)\":\"max\"}).collect()[0]\n",
        "row1[\"max(HighFixed(K))\"]"
      ]
    },
    {
      "cell_type": "code",
      "execution_count": null,
      "metadata": {
        "colab": {
          "base_uri": "https://localhost:8080/"
        },
        "id": "2S9zKU17r4z2",
        "outputId": "5995cbaf-ce80-4c00-ef86-4d3a9133dba7"
      },
      "outputs": [
        {
          "data": {
            "text/plain": [
              "2.91729998588562"
            ]
          },
          "execution_count": 20,
          "metadata": {},
          "output_type": "execute_result"
        }
      ],
      "source": [
        "row1 = df.agg({\"HighFixed(K)\":\"min\"}).collect()[0]\n",
        "row1[\"min(HighFixed(K))\"]"
      ]
    }
  ],
  "metadata": {
    "colab": {
      "provenance": []
    },
    "kernelspec": {
      "display_name": "Python 3.9.4 64-bit",
      "language": "python",
      "name": "python3"
    },
    "language_info": {
      "codemirror_mode": {
        "name": "ipython",
        "version": 3
      },
      "file_extension": ".py",
      "mimetype": "text/x-python",
      "name": "python",
      "nbconvert_exporter": "python",
      "pygments_lexer": "ipython3",
      "version": "3.9.4"
    },
    "vscode": {
      "interpreter": {
        "hash": "6fff98fc3b3d81bd655c2cc48858186e4d9e2db7b515bf1c3221888f12a62f87"
      }
    }
  },
  "nbformat": 4,
  "nbformat_minor": 0
}
